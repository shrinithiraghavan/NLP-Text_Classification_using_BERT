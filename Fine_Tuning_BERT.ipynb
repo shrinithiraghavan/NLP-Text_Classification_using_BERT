{
 "cells": [
  {
   "cell_type": "code",
   "execution_count": 1,
   "metadata": {
    "colab": {
     "base_uri": "https://localhost:8080/"
    },
    "executionInfo": {
     "elapsed": 402,
     "status": "ok",
     "timestamp": 1607139034580,
     "user": {
      "displayName": "ANU K JOSE",
      "photoUrl": "https://lh3.googleusercontent.com/a-/AOh14Gg2RFSDtU7TIBJXHFB5Oo2cENkYUURYMPOy8sfBeN4=s64",
      "userId": "03946493814653353359"
     },
     "user_tz": 360
    },
    "id": "wdgL25ohQnvP",
    "outputId": "214f10e7-792c-460c-bc19-3ab2325a8320"
   },
   "outputs": [
    {
     "name": "stdout",
     "output_type": "stream",
     "text": [
      "Drive already mounted at /content/gdrive/; to attempt to forcibly remount, call drive.mount(\"/content/gdrive/\", force_remount=True).\n"
     ]
    }
   ],
   "source": [
    "from google.colab import drive\n",
    "drive.mount('/content/gdrive/')"
   ]
  },
  {
   "cell_type": "code",
   "execution_count": null,
   "metadata": {
    "colab": {
     "base_uri": "https://localhost:8080/"
    },
    "id": "-B18vA8NRnMk",
    "outputId": "6c5eac32-b6ea-417c-8ac0-a07dd8e9c495"
   },
   "outputs": [
    {
     "name": "stdout",
     "output_type": "stream",
     "text": [
      "Collecting transformers~=3.5.1\n",
      "\u001b[?25l  Downloading https://files.pythonhosted.org/packages/3a/83/e74092e7f24a08d751aa59b37a9fc572b2e4af3918cb66f7766c3affb1b4/transformers-3.5.1-py3-none-any.whl (1.3MB)\n",
      "\u001b[K     |████████████████████████████████| 1.3MB 15.3MB/s \n",
      "\u001b[?25hCollecting tokenizers==0.9.3\n",
      "\u001b[?25l  Downloading https://files.pythonhosted.org/packages/4c/34/b39eb9994bc3c999270b69c9eea40ecc6f0e97991dba28282b9fd32d44ee/tokenizers-0.9.3-cp36-cp36m-manylinux1_x86_64.whl (2.9MB)\n",
      "\u001b[K     |████████████████████████████████| 2.9MB 46.0MB/s \n",
      "\u001b[?25hRequirement already satisfied: tqdm>=4.27 in /usr/local/lib/python3.6/dist-packages (from transformers~=3.5.1) (4.41.1)\n",
      "Collecting sacremoses\n",
      "\u001b[?25l  Downloading https://files.pythonhosted.org/packages/7d/34/09d19aff26edcc8eb2a01bed8e98f13a1537005d31e95233fd48216eed10/sacremoses-0.0.43.tar.gz (883kB)\n",
      "\u001b[K     |████████████████████████████████| 890kB 46.1MB/s \n",
      "\u001b[?25hRequirement already satisfied: protobuf in /usr/local/lib/python3.6/dist-packages (from transformers~=3.5.1) (3.12.4)\n",
      "Requirement already satisfied: numpy in /usr/local/lib/python3.6/dist-packages (from transformers~=3.5.1) (1.18.5)\n",
      "Collecting sentencepiece==0.1.91\n",
      "\u001b[?25l  Downloading https://files.pythonhosted.org/packages/d4/a4/d0a884c4300004a78cca907a6ff9a5e9fe4f090f5d95ab341c53d28cbc58/sentencepiece-0.1.91-cp36-cp36m-manylinux1_x86_64.whl (1.1MB)\n",
      "\u001b[K     |████████████████████████████████| 1.1MB 48.7MB/s \n",
      "\u001b[?25hRequirement already satisfied: dataclasses; python_version < \"3.7\" in /usr/local/lib/python3.6/dist-packages (from transformers~=3.5.1) (0.8)\n",
      "Requirement already satisfied: requests in /usr/local/lib/python3.6/dist-packages (from transformers~=3.5.1) (2.23.0)\n",
      "Requirement already satisfied: packaging in /usr/local/lib/python3.6/dist-packages (from transformers~=3.5.1) (20.4)\n",
      "Requirement already satisfied: filelock in /usr/local/lib/python3.6/dist-packages (from transformers~=3.5.1) (3.0.12)\n",
      "Requirement already satisfied: regex!=2019.12.17 in /usr/local/lib/python3.6/dist-packages (from transformers~=3.5.1) (2019.12.20)\n",
      "Requirement already satisfied: six in /usr/local/lib/python3.6/dist-packages (from sacremoses->transformers~=3.5.1) (1.15.0)\n",
      "Requirement already satisfied: click in /usr/local/lib/python3.6/dist-packages (from sacremoses->transformers~=3.5.1) (7.1.2)\n",
      "Requirement already satisfied: joblib in /usr/local/lib/python3.6/dist-packages (from sacremoses->transformers~=3.5.1) (0.17.0)\n",
      "Requirement already satisfied: setuptools in /usr/local/lib/python3.6/dist-packages (from protobuf->transformers~=3.5.1) (50.3.2)\n",
      "Requirement already satisfied: idna<3,>=2.5 in /usr/local/lib/python3.6/dist-packages (from requests->transformers~=3.5.1) (2.10)\n",
      "Requirement already satisfied: chardet<4,>=3.0.2 in /usr/local/lib/python3.6/dist-packages (from requests->transformers~=3.5.1) (3.0.4)\n",
      "Requirement already satisfied: certifi>=2017.4.17 in /usr/local/lib/python3.6/dist-packages (from requests->transformers~=3.5.1) (2020.11.8)\n",
      "Requirement already satisfied: urllib3!=1.25.0,!=1.25.1,<1.26,>=1.21.1 in /usr/local/lib/python3.6/dist-packages (from requests->transformers~=3.5.1) (1.24.3)\n",
      "Requirement already satisfied: pyparsing>=2.0.2 in /usr/local/lib/python3.6/dist-packages (from packaging->transformers~=3.5.1) (2.4.7)\n",
      "Building wheels for collected packages: sacremoses\n",
      "  Building wheel for sacremoses (setup.py) ... \u001b[?25l\u001b[?25hdone\n",
      "  Created wheel for sacremoses: filename=sacremoses-0.0.43-cp36-none-any.whl size=893257 sha256=c25e3de7a1c2ca335c34748d5aed17b91d0fd34fc28213c61d47e7c1783a4b90\n",
      "  Stored in directory: /root/.cache/pip/wheels/29/3c/fd/7ce5c3f0666dab31a50123635e6fb5e19ceb42ce38d4e58f45\n",
      "Successfully built sacremoses\n",
      "Installing collected packages: tokenizers, sacremoses, sentencepiece, transformers\n",
      "Successfully installed sacremoses-0.0.43 sentencepiece-0.1.91 tokenizers-0.9.3 transformers-3.5.1\n"
     ]
    }
   ],
   "source": [
    "!pip install transformers~=3.5.1"
   ]
  },
  {
   "cell_type": "code",
   "execution_count": 2,
   "metadata": {
    "colab": {
     "base_uri": "https://localhost:8080/"
    },
    "executionInfo": {
     "elapsed": 3111,
     "status": "ok",
     "timestamp": 1607139042562,
     "user": {
      "displayName": "ANU K JOSE",
      "photoUrl": "https://lh3.googleusercontent.com/a-/AOh14Gg2RFSDtU7TIBJXHFB5Oo2cENkYUURYMPOy8sfBeN4=s64",
      "userId": "03946493814653353359"
     },
     "user_tz": 360
    },
    "id": "KeH71U85ScZY",
    "outputId": "038fe2e3-a802-4871-cb05-f522f4e9d248"
   },
   "outputs": [
    {
     "name": "stdout",
     "output_type": "stream",
     "text": [
      "[nltk_data] Downloading package stopwords to /root/nltk_data...\n",
      "[nltk_data]   Package stopwords is already up-to-date!\n"
     ]
    }
   ],
   "source": [
    "\n",
    "import torch\n",
    "import torch.nn as nn\n",
    "\n",
    "import numpy as np\n",
    "import matplotlib.pyplot as plt\n",
    "import seaborn as sns\n",
    "from sklearn.metrics import confusion_matrix\n",
    "from datetime import datetime\n",
    "from pathlib import Path\n",
    "import pandas as pd\n",
    "\n",
    "import torchtext.data as ttd\n",
    "\n",
    "import torch\n",
    "from torch.autograd import Variable\n",
    "from sklearn.model_selection import train_test_split\n",
    "from pathlib import Path\n",
    "import pandas as pd\n",
    "from torch.utils import data\n",
    "import torch.nn as nn\n",
    "import torch.optim.lr_scheduler\n",
    "import torch.nn.functional as F\n",
    "\n",
    "import numpy as np\n",
    "import matplotlib.pyplot as plt\n",
    "import seaborn as sns\n",
    "from sklearn.metrics import confusion_matrix\n",
    "from datetime import datetime\n",
    "from nltk.tokenize import TreebankWordTokenizer\n",
    "from nltk.stem.porter import PorterStemmer\n",
    "from sklearn.feature_extraction.text import CountVectorizer, TfidfVectorizer\n",
    "from sklearn.metrics import mean_squared_error, r2_score, accuracy_score\n",
    "import gensim \n",
    "import gensim.downloader as api\n",
    "from gensim.models import Word2Vec  \n",
    "import torchtext.data as ttd\n",
    "import re\n",
    "import nltk\n",
    "nltk.download('stopwords')\n",
    "from nltk.corpus import stopwords\n",
    "from nltk.tokenize import WordPunctTokenizer, word_tokenize, sent_tokenize, TweetTokenizer\n",
    "from nltk.stem.snowball import SnowballStemmer\n",
    "from nltk.stem.wordnet import WordNetLemmatizer\n",
    "from sklearn.feature_extraction.text import TfidfVectorizer,HashingVectorizer\n",
    "from nltk.stem.porter import PorterStemmer \n",
    "from sklearn.pipeline import make_pipeline\n",
    "from sklearn.model_selection import cross_val_score\n",
    "from sklearn.linear_model import LogisticRegression\n",
    "from sklearn.model_selection import GridSearchCV\n",
    "from sklearn.pipeline import Pipeline\n",
    "from sklearn.naive_bayes import GaussianNB\n",
    "#from warnings import simplefilter\n",
    "#simplefilter(action='ignore', category=FutureWarning)\n",
    "from tensorflow.keras.preprocessing.text import Tokenizer\n",
    "from tensorflow.keras.preprocessing.sequence import pad_sequences\n",
    "\n",
    "from sklearn.datasets import fetch_20newsgroups\n",
    "from transformers import BertTokenizer\n",
    "import transformers as tran\n",
    "\n",
    "from torch.utils.data import TensorDataset, random_split\n",
    "from sklearn.model_selection import train_test_split\n",
    "from sklearn.linear_model import LogisticRegression"
   ]
  },
  {
   "cell_type": "code",
   "execution_count": 3,
   "metadata": {
    "executionInfo": {
     "elapsed": 399,
     "status": "ok",
     "timestamp": 1607139044564,
     "user": {
      "displayName": "ANU K JOSE",
      "photoUrl": "https://lh3.googleusercontent.com/a-/AOh14Gg2RFSDtU7TIBJXHFB5Oo2cENkYUURYMPOy8sfBeN4=s64",
      "userId": "03946493814653353359"
     },
     "user_tz": 360
    },
    "id": "hC-kmib2RnKz"
   },
   "outputs": [],
   "source": [
    "folder=Path('/content/gdrive/My Drive/NLP')"
   ]
  },
  {
   "cell_type": "code",
   "execution_count": 4,
   "metadata": {
    "executionInfo": {
     "elapsed": 2792,
     "status": "ok",
     "timestamp": 1607139047619,
     "user": {
      "displayName": "ANU K JOSE",
      "photoUrl": "https://lh3.googleusercontent.com/a-/AOh14Gg2RFSDtU7TIBJXHFB5Oo2cENkYUURYMPOy8sfBeN4=s64",
      "userId": "03946493814653353359"
     },
     "user_tz": 360
    },
    "id": "zrRLdaNFRnIB"
   },
   "outputs": [],
   "source": [
    "train = fetch_20newsgroups(subset='train', remove=('headers', 'footers', 'quotes'))\n",
    "\n",
    "test = fetch_20newsgroups(subset='test', remove=('headers', 'footers', 'quotes'))"
   ]
  },
  {
   "cell_type": "code",
   "execution_count": 5,
   "metadata": {
    "colab": {
     "base_uri": "https://localhost:8080/",
     "height": 419
    },
    "executionInfo": {
     "elapsed": 1351,
     "status": "ok",
     "timestamp": 1607139049105,
     "user": {
      "displayName": "ANU K JOSE",
      "photoUrl": "https://lh3.googleusercontent.com/a-/AOh14Gg2RFSDtU7TIBJXHFB5Oo2cENkYUURYMPOy8sfBeN4=s64",
      "userId": "03946493814653353359"
     },
     "user_tz": 360
    },
    "id": "4N49v5jme8Cj",
    "outputId": "521c22f1-da65-470b-bcc5-ebd332cc1088"
   },
   "outputs": [
    {
     "data": {
      "text/html": [
       "<div>\n",
       "<style scoped>\n",
       "    .dataframe tbody tr th:only-of-type {\n",
       "        vertical-align: middle;\n",
       "    }\n",
       "\n",
       "    .dataframe tbody tr th {\n",
       "        vertical-align: top;\n",
       "    }\n",
       "\n",
       "    .dataframe thead th {\n",
       "        text-align: right;\n",
       "    }\n",
       "</style>\n",
       "<table border=\"1\" class=\"dataframe\">\n",
       "  <thead>\n",
       "    <tr style=\"text-align: right;\">\n",
       "      <th></th>\n",
       "      <th>text</th>\n",
       "      <th>target</th>\n",
       "      <th>title</th>\n",
       "    </tr>\n",
       "  </thead>\n",
       "  <tbody>\n",
       "    <tr>\n",
       "      <th>0</th>\n",
       "      <td>I was wondering if anyone out there could enli...</td>\n",
       "      <td>7</td>\n",
       "      <td>rec.autos</td>\n",
       "    </tr>\n",
       "    <tr>\n",
       "      <th>17</th>\n",
       "      <td>I recently posted an article asking what kind ...</td>\n",
       "      <td>7</td>\n",
       "      <td>rec.autos</td>\n",
       "    </tr>\n",
       "    <tr>\n",
       "      <th>29</th>\n",
       "      <td>\\nIt depends on your priorities.  A lot of peo...</td>\n",
       "      <td>7</td>\n",
       "      <td>rec.autos</td>\n",
       "    </tr>\n",
       "    <tr>\n",
       "      <th>56</th>\n",
       "      <td>an excellent automatic can be found in the sub...</td>\n",
       "      <td>7</td>\n",
       "      <td>rec.autos</td>\n",
       "    </tr>\n",
       "    <tr>\n",
       "      <th>64</th>\n",
       "      <td>: Ford and his automobile.  I need information...</td>\n",
       "      <td>7</td>\n",
       "      <td>rec.autos</td>\n",
       "    </tr>\n",
       "    <tr>\n",
       "      <th>...</th>\n",
       "      <td>...</td>\n",
       "      <td>...</td>\n",
       "      <td>...</td>\n",
       "    </tr>\n",
       "    <tr>\n",
       "      <th>11210</th>\n",
       "      <td>Secrecy in Clipper Chip\\n\\nThe serial number o...</td>\n",
       "      <td>11</td>\n",
       "      <td>sci.crypt</td>\n",
       "    </tr>\n",
       "    <tr>\n",
       "      <th>11217</th>\n",
       "      <td>Hi !\\n\\nI am interested in the source of FEAL ...</td>\n",
       "      <td>11</td>\n",
       "      <td>sci.crypt</td>\n",
       "    </tr>\n",
       "    <tr>\n",
       "      <th>11243</th>\n",
       "      <td>The actual algorithm is classified, however, t...</td>\n",
       "      <td>11</td>\n",
       "      <td>sci.crypt</td>\n",
       "    </tr>\n",
       "    <tr>\n",
       "      <th>11254</th>\n",
       "      <td>\\n\\tThis appears to be generic calling upon th...</td>\n",
       "      <td>11</td>\n",
       "      <td>sci.crypt</td>\n",
       "    </tr>\n",
       "    <tr>\n",
       "      <th>11302</th>\n",
       "      <td>\\nProbably keep quiet and take it, lest they g...</td>\n",
       "      <td>11</td>\n",
       "      <td>sci.crypt</td>\n",
       "    </tr>\n",
       "  </tbody>\n",
       "</table>\n",
       "<p>11314 rows × 3 columns</p>\n",
       "</div>"
      ],
      "text/plain": [
       "                                                    text target      title\n",
       "0      I was wondering if anyone out there could enli...      7  rec.autos\n",
       "17     I recently posted an article asking what kind ...      7  rec.autos\n",
       "29     \\nIt depends on your priorities.  A lot of peo...      7  rec.autos\n",
       "56     an excellent automatic can be found in the sub...      7  rec.autos\n",
       "64     : Ford and his automobile.  I need information...      7  rec.autos\n",
       "...                                                  ...    ...        ...\n",
       "11210  Secrecy in Clipper Chip\\n\\nThe serial number o...     11  sci.crypt\n",
       "11217  Hi !\\n\\nI am interested in the source of FEAL ...     11  sci.crypt\n",
       "11243  The actual algorithm is classified, however, t...     11  sci.crypt\n",
       "11254  \\n\\tThis appears to be generic calling upon th...     11  sci.crypt\n",
       "11302  \\nProbably keep quiet and take it, lest they g...     11  sci.crypt\n",
       "\n",
       "[11314 rows x 3 columns]"
      ]
     },
     "execution_count": 5,
     "metadata": {
      "tags": []
     },
     "output_type": "execute_result"
    }
   ],
   "source": [
    "df1 = pd.DataFrame([train.data, train.target.tolist()]).T\n",
    "df1.columns = ['text', 'target']\n",
    "\n",
    "targets = pd.DataFrame( train.target_names)\n",
    "targets.columns=['title']\n",
    "\n",
    "df_train = pd.merge(df1, targets, left_on='target', right_index=True)\n",
    "df_train"
   ]
  },
  {
   "cell_type": "code",
   "execution_count": 6,
   "metadata": {
    "colab": {
     "base_uri": "https://localhost:8080/",
     "height": 419
    },
    "executionInfo": {
     "elapsed": 950,
     "status": "ok",
     "timestamp": 1607139052699,
     "user": {
      "displayName": "ANU K JOSE",
      "photoUrl": "https://lh3.googleusercontent.com/a-/AOh14Gg2RFSDtU7TIBJXHFB5Oo2cENkYUURYMPOy8sfBeN4=s64",
      "userId": "03946493814653353359"
     },
     "user_tz": 360
    },
    "id": "WLhlv0Scfaw1",
    "outputId": "386ef3c6-bac8-49ff-c414-74a9d9af9c48"
   },
   "outputs": [
    {
     "data": {
      "text/html": [
       "<div>\n",
       "<style scoped>\n",
       "    .dataframe tbody tr th:only-of-type {\n",
       "        vertical-align: middle;\n",
       "    }\n",
       "\n",
       "    .dataframe tbody tr th {\n",
       "        vertical-align: top;\n",
       "    }\n",
       "\n",
       "    .dataframe thead th {\n",
       "        text-align: right;\n",
       "    }\n",
       "</style>\n",
       "<table border=\"1\" class=\"dataframe\">\n",
       "  <thead>\n",
       "    <tr style=\"text-align: right;\">\n",
       "      <th></th>\n",
       "      <th>text</th>\n",
       "      <th>target</th>\n",
       "      <th>title</th>\n",
       "    </tr>\n",
       "  </thead>\n",
       "  <tbody>\n",
       "    <tr>\n",
       "      <th>0</th>\n",
       "      <td>I am a little confused on all of the models of...</td>\n",
       "      <td>7</td>\n",
       "      <td>rec.autos</td>\n",
       "    </tr>\n",
       "    <tr>\n",
       "      <th>27</th>\n",
       "      <td>I have a 90 Eagle Talon and I wanted a pair of...</td>\n",
       "      <td>7</td>\n",
       "      <td>rec.autos</td>\n",
       "    </tr>\n",
       "    <tr>\n",
       "      <th>28</th>\n",
       "      <td>Hi,\\nI need your help with a problem I have wi...</td>\n",
       "      <td>7</td>\n",
       "      <td>rec.autos</td>\n",
       "    </tr>\n",
       "    <tr>\n",
       "      <th>75</th>\n",
       "      <td>\\nThey changed the lights and slope of the hoo...</td>\n",
       "      <td>7</td>\n",
       "      <td>rec.autos</td>\n",
       "    </tr>\n",
       "    <tr>\n",
       "      <th>77</th>\n",
       "      <td>I am thinking of buying a used Audi 90 Auto.\\n...</td>\n",
       "      <td>7</td>\n",
       "      <td>rec.autos</td>\n",
       "    </tr>\n",
       "    <tr>\n",
       "      <th>...</th>\n",
       "      <td>...</td>\n",
       "      <td>...</td>\n",
       "      <td>...</td>\n",
       "    </tr>\n",
       "    <tr>\n",
       "      <th>7426</th>\n",
       "      <td>\\nI think it's because the lead gets coated wi...</td>\n",
       "      <td>12</td>\n",
       "      <td>sci.electronics</td>\n",
       "    </tr>\n",
       "    <tr>\n",
       "      <th>7445</th>\n",
       "      <td>\\n\\nWith regards to what you wrote, how does ...</td>\n",
       "      <td>12</td>\n",
       "      <td>sci.electronics</td>\n",
       "    </tr>\n",
       "    <tr>\n",
       "      <th>7507</th>\n",
       "      <td>\\nWhy can't he record it legally?  It may not ...</td>\n",
       "      <td>12</td>\n",
       "      <td>sci.electronics</td>\n",
       "    </tr>\n",
       "    <tr>\n",
       "      <th>7510</th>\n",
       "      <td>\\n\\n\\nIt sorta depends on what you drive. I re...</td>\n",
       "      <td>12</td>\n",
       "      <td>sci.electronics</td>\n",
       "    </tr>\n",
       "    <tr>\n",
       "      <th>7519</th>\n",
       "      <td>Can anyone point me to a cross compiler and/or...</td>\n",
       "      <td>12</td>\n",
       "      <td>sci.electronics</td>\n",
       "    </tr>\n",
       "  </tbody>\n",
       "</table>\n",
       "<p>7532 rows × 3 columns</p>\n",
       "</div>"
      ],
      "text/plain": [
       "                                                   text target            title\n",
       "0     I am a little confused on all of the models of...      7        rec.autos\n",
       "27    I have a 90 Eagle Talon and I wanted a pair of...      7        rec.autos\n",
       "28    Hi,\\nI need your help with a problem I have wi...      7        rec.autos\n",
       "75    \\nThey changed the lights and slope of the hoo...      7        rec.autos\n",
       "77    I am thinking of buying a used Audi 90 Auto.\\n...      7        rec.autos\n",
       "...                                                 ...    ...              ...\n",
       "7426  \\nI think it's because the lead gets coated wi...     12  sci.electronics\n",
       "7445   \\n\\nWith regards to what you wrote, how does ...     12  sci.electronics\n",
       "7507  \\nWhy can't he record it legally?  It may not ...     12  sci.electronics\n",
       "7510  \\n\\n\\nIt sorta depends on what you drive. I re...     12  sci.electronics\n",
       "7519  Can anyone point me to a cross compiler and/or...     12  sci.electronics\n",
       "\n",
       "[7532 rows x 3 columns]"
      ]
     },
     "execution_count": 6,
     "metadata": {
      "tags": []
     },
     "output_type": "execute_result"
    }
   ],
   "source": [
    "df2 = pd.DataFrame([test.data, test.target.tolist()]).T\n",
    "df2.columns = ['text', 'target']\n",
    "\n",
    "targets1 = pd.DataFrame( test.target_names)\n",
    "targets1.columns=['title']\n",
    "\n",
    "df_test = pd.merge(df2, targets1, left_on='target', right_index=True)\n",
    "df_test"
   ]
  },
  {
   "cell_type": "code",
   "execution_count": 7,
   "metadata": {
    "colab": {
     "base_uri": "https://localhost:8080/"
    },
    "executionInfo": {
     "elapsed": 326,
     "status": "ok",
     "timestamp": 1607139055577,
     "user": {
      "displayName": "ANU K JOSE",
      "photoUrl": "https://lh3.googleusercontent.com/a-/AOh14Gg2RFSDtU7TIBJXHFB5Oo2cENkYUURYMPOy8sfBeN4=s64",
      "userId": "03946493814653353359"
     },
     "user_tz": 360
    },
    "id": "P_6JCYzpRm5z",
    "outputId": "57727b91-ebb6-4110-a205-c72a6c7645fe"
   },
   "outputs": [
    {
     "name": "stdout",
     "output_type": "stream",
     "text": [
      "['rec.autos' 'rec.autos' 'rec.autos' ... 'sci.crypt' 'sci.crypt'\n",
      " 'sci.crypt']\n"
     ]
    }
   ],
   "source": [
    "print(df_train.title.values)"
   ]
  },
  {
   "cell_type": "code",
   "execution_count": 8,
   "metadata": {
    "colab": {
     "base_uri": "https://localhost:8080/"
    },
    "executionInfo": {
     "elapsed": 351,
     "status": "ok",
     "timestamp": 1607139058533,
     "user": {
      "displayName": "ANU K JOSE",
      "photoUrl": "https://lh3.googleusercontent.com/a-/AOh14Gg2RFSDtU7TIBJXHFB5Oo2cENkYUURYMPOy8sfBeN4=s64",
      "userId": "03946493814653353359"
     },
     "user_tz": 360
    },
    "id": "Z8NY9lJPf8B_",
    "outputId": "888fdcb3-51f7-4945-8bd3-4e1ebb4bfab7"
   },
   "outputs": [
    {
     "name": "stdout",
     "output_type": "stream",
     "text": [
      "<bound method IndexOpsMixin.value_counts of 0        rec.autos\n",
      "17       rec.autos\n",
      "29       rec.autos\n",
      "56       rec.autos\n",
      "64       rec.autos\n",
      "           ...    \n",
      "11210    sci.crypt\n",
      "11217    sci.crypt\n",
      "11243    sci.crypt\n",
      "11254    sci.crypt\n",
      "11302    sci.crypt\n",
      "Name: title, Length: 11314, dtype: object>\n"
     ]
    }
   ],
   "source": [
    "print(df_train.title.value_counts)"
   ]
  },
  {
   "cell_type": "code",
   "execution_count": 9,
   "metadata": {
    "colab": {
     "base_uri": "https://localhost:8080/",
     "height": 319
    },
    "executionInfo": {
     "elapsed": 510,
     "status": "ok",
     "timestamp": 1607139061131,
     "user": {
      "displayName": "ANU K JOSE",
      "photoUrl": "https://lh3.googleusercontent.com/a-/AOh14Gg2RFSDtU7TIBJXHFB5Oo2cENkYUURYMPOy8sfBeN4=s64",
      "userId": "03946493814653353359"
     },
     "user_tz": 360
    },
    "id": "lYxNegClZ9nP",
    "outputId": "85ad1fd0-38b6-4f81-8a1c-d8d9aec3bf09"
   },
   "outputs": [
    {
     "name": "stderr",
     "output_type": "stream",
     "text": [
      "/usr/local/lib/python3.6/dist-packages/seaborn/_decorators.py:43: FutureWarning: Pass the following variable as a keyword arg: x. From version 0.12, the only valid positional argument will be `data`, and passing other arguments without an explicit keyword will result in an error or misinterpretation.\n",
      "  FutureWarning\n"
     ]
    },
    {
     "data": {
      "image/png": "[encoded data removed]",
      "text/plain": [
       "<Figure size 432x288 with 1 Axes>"
      ]
     },
     "metadata": {
      "needs_background": "light",
      "tags": []
     },
     "output_type": "display_data"
    }
   ],
   "source": [
    "# Plot the number of tokens of different length.\n",
    "sns.countplot(train.target);"
   ]
  },
  {
   "cell_type": "code",
   "execution_count": 1,
   "metadata": {
    "executionInfo": {
     "elapsed": 2710,
     "status": "ok",
     "timestamp": 1607136571515,
     "user": {
      "displayName": "ANU K JOSE",
      "photoUrl": "https://lh3.googleusercontent.com/a-/AOh14Gg2RFSDtU7TIBJXHFB5Oo2cENkYUURYMPOy8sfBeN4=s64",
      "userId": "03946493814653353359"
     },
     "user_tz": 360
    },
    "id": "-LJqSfEAZ9EI"
   },
   "outputs": [],
   "source": [
    "import pandas as pd\n",
    "import matplotlib.pyplot as plt\n",
    "import torch\n",
    "\n",
    "import torch.nn as nn\n",
    "from transformers import BertTokenizer, BertForSequenceClassification\n",
    "\n",
    "from torchtext.data import BucketIterator,Field, Iterator, TabularDataset\n",
    "\n",
    "import torch.optim as optim\n",
    "\n",
    "from sklearn.model_selection import train_test_split\n",
    "from sklearn.metrics import accuracy_score, confusion_matrix, classification_report\n",
    "import seaborn as sns"
   ]
  },
  {
   "cell_type": "code",
   "execution_count": 11,
   "metadata": {
    "colab": {
     "base_uri": "https://localhost:8080/"
    },
    "executionInfo": {
     "elapsed": 522,
     "status": "ok",
     "timestamp": 1607139084607,
     "user": {
      "displayName": "ANU K JOSE",
      "photoUrl": "https://lh3.googleusercontent.com/a-/AOh14Gg2RFSDtU7TIBJXHFB5Oo2cENkYUURYMPOy8sfBeN4=s64",
      "userId": "03946493814653353359"
     },
     "user_tz": 360
    },
    "id": "dkvpYP7TZ9Ay",
    "outputId": "349d9778-1f79-4dcf-a11d-f7b1eb0ab695"
   },
   "outputs": [
    {
     "name": "stdout",
     "output_type": "stream",
     "text": [
      "Loading BERT tokenizer...\n"
     ]
    }
   ],
   "source": [
    "from transformers import BertTokenizer\n",
    "\n",
    "# Load the BERT tokenizer.\n",
    "print('Loading BERT tokenizer...')\n",
    "tokenizer = BertTokenizer.from_pretrained('bert-base-uncased', do_lower_case=True)"
   ]
  },
  {
   "cell_type": "code",
   "execution_count": 12,
   "metadata": {
    "colab": {
     "base_uri": "https://localhost:8080/"
    },
    "executionInfo": {
     "elapsed": 295,
     "status": "ok",
     "timestamp": 1607139087180,
     "user": {
      "displayName": "ANU K JOSE",
      "photoUrl": "https://lh3.googleusercontent.com/a-/AOh14Gg2RFSDtU7TIBJXHFB5Oo2cENkYUURYMPOy8sfBeN4=s64",
      "userId": "03946493814653353359"
     },
     "user_tz": 360
    },
    "id": "qv6dWLoS056R",
    "outputId": "48d11fdb-0bde-4eb9-fce0-71f2fd65711d"
   },
   "outputs": [
    {
     "data": {
      "text/plain": [
       "device(type='cuda', index=0)"
      ]
     },
     "execution_count": 12,
     "metadata": {
      "tags": []
     },
     "output_type": "execute_result"
    }
   ],
   "source": [
    "device = torch.device('cuda:0' if torch.cuda.is_available() else 'cpu') \n",
    "device"
   ]
  },
  {
   "cell_type": "code",
   "execution_count": 13,
   "metadata": {
    "executionInfo": {
     "elapsed": 339,
     "status": "ok",
     "timestamp": 1607139089151,
     "user": {
      "displayName": "ANU K JOSE",
      "photoUrl": "https://lh3.googleusercontent.com/a-/AOh14Gg2RFSDtU7TIBJXHFB5Oo2cENkYUURYMPOy8sfBeN4=s64",
      "userId": "03946493814653353359"
     },
     "user_tz": 360
    },
    "id": "YN7ElcOX07Fk"
   },
   "outputs": [],
   "source": [
    "sentences = df_train.text.values\n",
    "labels = df_train.target.values"
   ]
  },
  {
   "cell_type": "code",
   "execution_count": 14,
   "metadata": {
    "colab": {
     "base_uri": "https://localhost:8080/"
    },
    "executionInfo": {
     "elapsed": 320,
     "status": "ok",
     "timestamp": 1607139090577,
     "user": {
      "displayName": "ANU K JOSE",
      "photoUrl": "https://lh3.googleusercontent.com/a-/AOh14Gg2RFSDtU7TIBJXHFB5Oo2cENkYUURYMPOy8sfBeN4=s64",
      "userId": "03946493814653353359"
     },
     "user_tz": 360
    },
    "id": "q-06SgNK07P4",
    "outputId": "bb1a8253-c2e7-4d62-9fb5-29290476e1d1"
   },
   "outputs": [
    {
     "name": "stdout",
     "output_type": "stream",
     "text": [
      " Original:  I was wondering if anyone out there could enlighten me on this car I saw\n",
      "the other day. It was a 2-door sports car, looked to be from the late 60s/\n",
      "early 70s. It was called a Bricklin. The doors were really small. In addition,\n",
      "the front bumper was separate from the rest of the body. This is \n",
      "all I know. If anyone can tellme a model name, engine specs, years\n",
      "of production, where this car is made, history, or whatever info you\n",
      "have on this funky looking car, please e-mail.\n",
      "Tokenized:  ['i', 'was', 'wondering', 'if', 'anyone', 'out', 'there', 'could', 'en', '##light', '##en', 'me', 'on', 'this', 'car', 'i', 'saw', 'the', 'other', 'day', '.', 'it', 'was', 'a', '2', '-', 'door', 'sports', 'car', ',', 'looked', 'to', 'be', 'from', 'the', 'late', '60s', '/', 'early', '70s', '.', 'it', 'was', 'called', 'a', 'brick', '##lin', '.', 'the', 'doors', 'were', 'really', 'small', '.', 'in', 'addition', ',', 'the', 'front', 'bumper', 'was', 'separate', 'from', 'the', 'rest', 'of', 'the', 'body', '.', 'this', 'is', 'all', 'i', 'know', '.', 'if', 'anyone', 'can', 'tell', '##me', 'a', 'model', 'name', ',', 'engine', 'spec', '##s', ',', 'years', 'of', 'production', ',', 'where', 'this', 'car', 'is', 'made', ',', 'history', ',', 'or', 'whatever', 'info', 'you', 'have', 'on', 'this', 'funky', 'looking', 'car', ',', 'please', 'e', '-', 'mail', '.']\n",
      "Token IDs:  [1045, 2001, 6603, 2065, 3087, 2041, 2045, 2071, 4372, 7138, 2368, 2033, 2006, 2023, 2482, 1045, 2387, 1996, 2060, 2154, 1012, 2009, 2001, 1037, 1016, 1011, 2341, 2998, 2482, 1010, 2246, 2000, 2022, 2013, 1996, 2397, 20341, 1013, 2220, 17549, 1012, 2009, 2001, 2170, 1037, 5318, 4115, 1012, 1996, 4303, 2020, 2428, 2235, 1012, 1999, 2804, 1010, 1996, 2392, 21519, 2001, 3584, 2013, 1996, 2717, 1997, 1996, 2303, 1012, 2023, 2003, 2035, 1045, 2113, 1012, 2065, 3087, 2064, 2425, 4168, 1037, 2944, 2171, 1010, 3194, 28699, 2015, 1010, 2086, 1997, 2537, 1010, 2073, 2023, 2482, 2003, 2081, 1010, 2381, 1010, 2030, 3649, 18558, 2017, 2031, 2006, 2023, 24151, 2559, 2482, 1010, 3531, 1041, 1011, 5653, 1012]\n"
     ]
    }
   ],
   "source": [
    "\n",
    "print(' Original: ', sentences[0])\n",
    "\n",
    "print('Tokenized: ', tokenizer.tokenize(sentences[0]))\n",
    "\n",
    "print('Token IDs: ', tokenizer.convert_tokens_to_ids(tokenizer.tokenize(sentences[0])))"
   ]
  },
  {
   "cell_type": "code",
   "execution_count": 15,
   "metadata": {
    "colab": {
     "base_uri": "https://localhost:8080/"
    },
    "executionInfo": {
     "elapsed": 49900,
     "status": "ok",
     "timestamp": 1607139144030,
     "user": {
      "displayName": "ANU K JOSE",
      "photoUrl": "https://lh3.googleusercontent.com/a-/AOh14Gg2RFSDtU7TIBJXHFB5Oo2cENkYUURYMPOy8sfBeN4=s64",
      "userId": "03946493814653353359"
     },
     "user_tz": 360
    },
    "id": "T5Q3LaxV07VJ",
    "outputId": "8a774f72-1770-4e31-e00a-19425143a03f"
   },
   "outputs": [
    {
     "name": "stderr",
     "output_type": "stream",
     "text": [
      "Token indices sequence length is longer than the specified maximum sequence length for this model (3226 > 512). Running this sequence through the model will result in indexing errors\n"
     ]
    },
    {
     "name": "stdout",
     "output_type": "stream",
     "text": [
      "Max sentence length:  52886\n"
     ]
    }
   ],
   "source": [
    "max_len = 0\n",
    "\n",
    "for sent in sentences:\n",
    "\n",
    "    # Tokenize the text and add `[CLS]` and `[SEP]` tokens.\n",
    "    input_ids = tokenizer.encode(sent, add_special_tokens=True)\n",
    "\n",
    "    # Update the maximum sentence length.\n",
    "    max_len = max(max_len, len(input_ids))\n",
    "\n",
    "print('Max sentence length: ', max_len)"
   ]
  },
  {
   "cell_type": "code",
   "execution_count": 16,
   "metadata": {
    "colab": {
     "base_uri": "https://localhost:8080/"
    },
    "executionInfo": {
     "elapsed": 172907,
     "status": "ok",
     "timestamp": 1607139270127,
     "user": {
      "displayName": "ANU K JOSE",
      "photoUrl": "https://lh3.googleusercontent.com/a-/AOh14Gg2RFSDtU7TIBJXHFB5Oo2cENkYUURYMPOy8sfBeN4=s64",
      "userId": "03946493814653353359"
     },
     "user_tz": 360
    },
    "id": "oWqZRUtW1DYt",
    "outputId": "6ba143d3-f7ac-458e-9dd8-1992c33e7600"
   },
   "outputs": [
    {
     "name": "stderr",
     "output_type": "stream",
     "text": [
      "Truncation was not explicitly activated but `max_length` is provided a specific value, please use `truncation=True` to explicitly truncate examples to max length. Defaulting to 'longest_first' truncation strategy. If you encode pairs of sequences (GLUE-style) with the tokenizer you can select this strategy more precisely by providing a specific strategy to `truncation`.\n",
      "/usr/local/lib/python3.6/dist-packages/transformers/tokenization_utils_base.py:2022: FutureWarning: The `pad_to_max_length` argument is deprecated and will be removed in a future version, use `padding=True` or `padding='longest'` to pad to the longest sequence in the batch, or use `padding='max_length'` to pad to a max length. In this case, you can give a specific length with `max_length` (e.g. `max_length=45`) or leave max_length to None to pad to the maximal input size of the model (e.g. 512 for Bert).\n",
      "  FutureWarning,\n"
     ]
    },
    {
     "name": "stdout",
     "output_type": "stream",
     "text": [
      "Original:  I was wondering if anyone out there could enlighten me on this car I saw\n",
      "the other day. It was a 2-door sports car, looked to be from the late 60s/\n",
      "early 70s. It was called a Bricklin. The doors were really small. In addition,\n",
      "the front bumper was separate from the rest of the body. This is \n",
      "all I know. If anyone can tellme a model name, engine specs, years\n",
      "of production, where this car is made, history, or whatever info you\n",
      "have on this funky looking car, please e-mail.\n",
      "Token IDs: tensor([  101,  1045,  2001,  6603,  2065,  3087,  2041,  2045,  2071,  4372,\n",
      "         7138,  2368,  2033,  2006,  2023,  2482,  1045,  2387,  1996,  2060,\n",
      "         2154,  1012,  2009,  2001,  1037,  1016,  1011,  2341,  2998,  2482,\n",
      "         1010,  2246,  2000,  2022,  2013,  1996,  2397, 20341,  1013,  2220,\n",
      "        17549,  1012,  2009,  2001,  2170,  1037,  5318,  4115,  1012,  1996,\n",
      "         4303,  2020,  2428,  2235,  1012,  1999,  2804,  1010,  1996,  2392,\n",
      "        21519,  2001,  3584,  2013,  1996,  2717,  1997,  1996,  2303,  1012,\n",
      "         2023,  2003,  2035,  1045,  2113,  1012,  2065,  3087,  2064,  2425,\n",
      "         4168,  1037,  2944,  2171,  1010,  3194, 28699,  2015,  1010,  2086,\n",
      "         1997,  2537,  1010,  2073,  2023,  2482,  2003,  2081,  1010,  2381,\n",
      "         1010,  2030,  3649, 18558,  2017,  2031,  2006,  2023, 24151,  2559,\n",
      "         2482,  1010,  3531,  1041,  1011,  5653,  1012,   102,     0,     0,\n",
      "            0,     0,     0,     0,     0,     0,     0,     0,     0,     0,\n",
      "            0,     0,     0,     0,     0,     0,     0,     0,     0,     0,\n",
      "            0,     0,     0,     0,     0,     0,     0,     0,     0,     0,\n",
      "            0,     0,     0,     0,     0,     0,     0,     0,     0,     0,\n",
      "            0,     0,     0,     0,     0,     0,     0,     0,     0,     0,\n",
      "            0,     0,     0,     0,     0,     0,     0,     0,     0,     0,\n",
      "            0,     0,     0,     0,     0,     0,     0,     0,     0,     0,\n",
      "            0,     0,     0,     0,     0,     0,     0,     0,     0,     0,\n",
      "            0,     0,     0,     0,     0,     0,     0,     0,     0,     0,\n",
      "            0,     0,     0,     0,     0,     0,     0,     0,     0,     0,\n",
      "            0,     0,     0,     0,     0,     0,     0,     0,     0,     0,\n",
      "            0,     0,     0,     0,     0,     0,     0,     0,     0,     0,\n",
      "            0,     0,     0,     0,     0,     0,     0,     0,     0,     0,\n",
      "            0,     0,     0,     0,     0,     0,     0,     0,     0,     0,\n",
      "            0,     0,     0,     0,     0,     0,     0,     0,     0,     0,\n",
      "            0,     0,     0,     0,     0,     0,     0,     0,     0,     0,\n",
      "            0,     0,     0,     0,     0,     0,     0,     0,     0,     0,\n",
      "            0,     0,     0,     0,     0,     0,     0,     0,     0,     0,\n",
      "            0,     0,     0,     0,     0,     0,     0,     0,     0,     0,\n",
      "            0,     0,     0,     0,     0,     0,     0,     0,     0,     0,\n",
      "            0,     0,     0,     0,     0,     0,     0,     0,     0,     0,\n",
      "            0,     0,     0,     0,     0,     0,     0,     0,     0,     0,\n",
      "            0,     0,     0,     0,     0,     0,     0,     0,     0,     0,\n",
      "            0,     0,     0,     0,     0,     0,     0,     0,     0,     0,\n",
      "            0,     0,     0,     0,     0,     0,     0,     0,     0,     0,\n",
      "            0,     0,     0,     0,     0,     0,     0,     0,     0,     0,\n",
      "            0,     0,     0,     0,     0,     0,     0,     0,     0,     0,\n",
      "            0,     0,     0,     0,     0,     0,     0,     0,     0,     0,\n",
      "            0,     0,     0,     0,     0,     0,     0,     0,     0,     0,\n",
      "            0,     0,     0,     0,     0,     0,     0,     0,     0,     0,\n",
      "            0,     0,     0,     0,     0,     0,     0,     0,     0,     0,\n",
      "            0,     0,     0,     0,     0,     0,     0,     0,     0,     0,\n",
      "            0,     0,     0,     0,     0,     0,     0,     0,     0,     0,\n",
      "            0,     0,     0,     0,     0,     0,     0,     0,     0,     0,\n",
      "            0,     0,     0,     0,     0,     0,     0,     0,     0,     0,\n",
      "            0,     0,     0,     0,     0,     0,     0,     0,     0,     0,\n",
      "            0,     0,     0,     0,     0,     0,     0,     0,     0,     0,\n",
      "            0,     0,     0,     0,     0,     0,     0,     0,     0,     0,\n",
      "            0,     0,     0,     0,     0,     0,     0,     0,     0,     0,\n",
      "            0,     0])\n"
     ]
    }
   ],
   "source": [
    "# Tokenize all of the sentences and map the tokens to thier word IDs.\n",
    "input_ids = []\n",
    "attention_masks = []\n",
    "\n",
    "# For every sentence...\n",
    "for sent in sentences:\n",
    " \n",
    "    encoded_dict = tokenizer.encode_plus(\n",
    "                        sent,                      \n",
    "                        add_special_tokens = True, # Add \n",
    "                        max_length = 512,           # Pad & truncate all sentences.\n",
    "                        pad_to_max_length = True,\n",
    "                        #padding = True,\n",
    "                        return_attention_mask = True,   # Construct attn. masks.\n",
    "                        return_tensors = 'pt',     # Return pytorch tensors.\n",
    "                   )\n",
    "    \n",
    "    # Add the encoded sentence to the list.    \n",
    "    input_ids.append(encoded_dict['input_ids'])\n",
    "    \n",
    "    # And its attention mask (simply differentiates padding from non-padding).\n",
    "    attention_masks.append(encoded_dict['attention_mask'])\n",
    "\n",
    "# Convert the lists into tensors.\n",
    "input_ids = torch.cat(input_ids, dim=0)\n",
    "attention_masks = torch.cat(attention_masks, dim=0)\n",
    "labels=torch.tensor(df_train['target'])\n",
    "\n",
    "# Print sentence 0, now as a list of IDs.\n",
    "print('Original: ', sentences[0])\n",
    "print('Token IDs:', input_ids[0])"
   ]
  },
  {
   "cell_type": "code",
   "execution_count": 17,
   "metadata": {
    "colab": {
     "base_uri": "https://localhost:8080/"
    },
    "executionInfo": {
     "elapsed": 297,
     "status": "ok",
     "timestamp": 1607139275560,
     "user": {
      "displayName": "ANU K JOSE",
      "photoUrl": "https://lh3.googleusercontent.com/a-/AOh14Gg2RFSDtU7TIBJXHFB5Oo2cENkYUURYMPOy8sfBeN4=s64",
      "userId": "03946493814653353359"
     },
     "user_tz": 360
    },
    "id": "0EtPd3mS5i6S",
    "outputId": "d1ea2957-5af6-4453-9cfb-c7aae860cd0f"
   },
   "outputs": [
    {
     "name": "stdout",
     "output_type": "stream",
     "text": [
      "torch.Size([11314])\n",
      "torch.Size([11314, 512])\n",
      "torch.Size([11314, 512])\n"
     ]
    }
   ],
   "source": [
    "print(labels.shape)\n",
    "print(attention_masks.shape)\n",
    "print(input_ids.shape)\n"
   ]
  },
  {
   "cell_type": "code",
   "execution_count": 18,
   "metadata": {
    "colab": {
     "base_uri": "https://localhost:8080/"
    },
    "executionInfo": {
     "elapsed": 314,
     "status": "ok",
     "timestamp": 1607139278431,
     "user": {
      "displayName": "ANU K JOSE",
      "photoUrl": "https://lh3.googleusercontent.com/a-/AOh14Gg2RFSDtU7TIBJXHFB5Oo2cENkYUURYMPOy8sfBeN4=s64",
      "userId": "03946493814653353359"
     },
     "user_tz": 360
    },
    "id": "OGbzjEP01DgH",
    "outputId": "9905a207-45da-4359-b1f4-f059544643e3"
   },
   "outputs": [
    {
     "name": "stdout",
     "output_type": "stream",
     "text": [
      "7,919 training samples\n",
      "3,395 validation samples\n"
     ]
    }
   ],
   "source": [
    "from torch.utils.data import TensorDataset, random_split\n",
    "\n",
    "# Combine the training inputs into a TensorDataset.\n",
    "dataset = TensorDataset(input_ids, attention_masks, labels)\n",
    "\n",
    "# Create a 70-30 train-validation split.\n",
    "\n",
    "# Calculate the number of samples to include in each set.\n",
    "train_size = int(0.7 * len(dataset))\n",
    "val_size = len(dataset) - train_size\n",
    "\n",
    "# Divide the dataset by randomly selecting samples.\n",
    "train_dataset, val_dataset = random_split(dataset, [train_size, val_size])\n",
    "\n",
    "print('{:>5,} training samples'.format(train_size))\n",
    "print('{:>5,} validation samples'.format(val_size))\n"
   ]
  },
  {
   "cell_type": "code",
   "execution_count": 19,
   "metadata": {
    "executionInfo": {
     "elapsed": 297,
     "status": "ok",
     "timestamp": 1607139282868,
     "user": {
      "displayName": "ANU K JOSE",
      "photoUrl": "https://lh3.googleusercontent.com/a-/AOh14Gg2RFSDtU7TIBJXHFB5Oo2cENkYUURYMPOy8sfBeN4=s64",
      "userId": "03946493814653353359"
     },
     "user_tz": 360
    },
    "id": "KDJ1wyaA1DsX"
   },
   "outputs": [],
   "source": [
    "from torch.utils.data import DataLoader, RandomSampler, SequentialSampler\n",
    "\n",
    "# The DataLoader needs to know our batch size for training, so we specify it \n",
    "# here. For fine-tuning BERT on a specific task, the authors recommend a batch \n",
    "# size of 16 or 32.\n",
    "batch_size = 8\n",
    "\n",
    "# Create the DataLoaders for our training and validation sets.\n",
    "# We'll take training samples in random order. \n",
    "train_dataloader = DataLoader(\n",
    "            train_dataset,  # The training samples.\n",
    "            sampler = RandomSampler(train_dataset), # Select batches randomly\n",
    "            batch_size = batch_size # Trains with this batch size.\n",
    "        )\n",
    "\n",
    "# For validation the order doesn't matter, so we'll just read them sequentially.\n",
    "validation_dataloader = DataLoader(\n",
    "            val_dataset, # The validation samples.\n",
    "            sampler = SequentialSampler(val_dataset), # Pull out batches sequentially.\n",
    "            batch_size = batch_size # Evaluate with this batch size.\n",
    "        )"
   ]
  },
  {
   "cell_type": "code",
   "execution_count": 20,
   "metadata": {
    "colab": {
     "base_uri": "https://localhost:8080/"
    },
    "executionInfo": {
     "elapsed": 10128,
     "status": "ok",
     "timestamp": 1607139298240,
     "user": {
      "displayName": "ANU K JOSE",
      "photoUrl": "https://lh3.googleusercontent.com/a-/AOh14Gg2RFSDtU7TIBJXHFB5Oo2cENkYUURYMPOy8sfBeN4=s64",
      "userId": "03946493814653353359"
     },
     "user_tz": 360
    },
    "id": "KRRKWtKo7YRx",
    "outputId": "2eae6b78-fd02-49cb-eab1-6351d97de4c6"
   },
   "outputs": [
    {
     "name": "stderr",
     "output_type": "stream",
     "text": [
      "Some weights of the model checkpoint at bert-base-uncased were not used when initializing BertForSequenceClassification: ['cls.predictions.bias', 'cls.predictions.transform.dense.weight', 'cls.predictions.transform.dense.bias', 'cls.predictions.decoder.weight', 'cls.seq_relationship.weight', 'cls.seq_relationship.bias', 'cls.predictions.transform.LayerNorm.weight', 'cls.predictions.transform.LayerNorm.bias']\n",
      "- This IS expected if you are initializing BertForSequenceClassification from the checkpoint of a model trained on another task or with another architecture (e.g. initializing a BertForSequenceClassification model from a BertForPreTraining model).\n",
      "- This IS NOT expected if you are initializing BertForSequenceClassification from the checkpoint of a model that you expect to be exactly identical (initializing a BertForSequenceClassification model from a BertForSequenceClassification model).\n",
      "Some weights of BertForSequenceClassification were not initialized from the model checkpoint at bert-base-uncased and are newly initialized: ['classifier.weight', 'classifier.bias']\n",
      "You should probably TRAIN this model on a down-stream task to be able to use it for predictions and inference.\n"
     ]
    }
   ],
   "source": [
    "from transformers import BertForSequenceClassification, AdamW, BertConfig\n",
    "\n",
    "# Load BertForSequenceClassification, the pretrained BERT model with a single \n",
    "# linear classification layer on top. \n",
    "model = BertForSequenceClassification.from_pretrained(\n",
    "    \"bert-base-uncased\", # Use the 12-layer BERT model, with an uncased vocab.\n",
    "    num_labels = 20, # The number of output labels   \n",
    "    output_attentions = False, # Whether the model returns attentions weights.\n",
    "    output_hidden_states = False, # Whether the model returns all hidden-states.\n",
    ")\n",
    "model.cuda();"
   ]
  },
  {
   "cell_type": "code",
   "execution_count": 21,
   "metadata": {
    "colab": {
     "base_uri": "https://localhost:8080/"
    },
    "executionInfo": {
     "elapsed": 346,
     "status": "ok",
     "timestamp": 1607139303786,
     "user": {
      "displayName": "ANU K JOSE",
      "photoUrl": "https://lh3.googleusercontent.com/a-/AOh14Gg2RFSDtU7TIBJXHFB5Oo2cENkYUURYMPOy8sfBeN4=s64",
      "userId": "03946493814653353359"
     },
     "user_tz": 360
    },
    "id": "g4sVQGdT7k_w",
    "outputId": "4a735a85-42e9-4b0c-a198-1c813e1dbe97"
   },
   "outputs": [
    {
     "name": "stdout",
     "output_type": "stream",
     "text": [
      "The BERT model has 201 different named parameters.\n",
      "\n",
      "==== Embedding Layer ====\n",
      "\n",
      "bert.embeddings.word_embeddings.weight                  (30522, 768)\n",
      "bert.embeddings.position_embeddings.weight                (512, 768)\n",
      "bert.embeddings.token_type_embeddings.weight                (2, 768)\n",
      "bert.embeddings.LayerNorm.weight                              (768,)\n",
      "bert.embeddings.LayerNorm.bias                                (768,)\n",
      "\n",
      "==== First Transformer ====\n",
      "\n",
      "bert.encoder.layer.0.attention.self.query.weight          (768, 768)\n",
      "bert.encoder.layer.0.attention.self.query.bias                (768,)\n",
      "bert.encoder.layer.0.attention.self.key.weight            (768, 768)\n",
      "bert.encoder.layer.0.attention.self.key.bias                  (768,)\n",
      "bert.encoder.layer.0.attention.self.value.weight          (768, 768)\n",
      "bert.encoder.layer.0.attention.self.value.bias                (768,)\n",
      "bert.encoder.layer.0.attention.output.dense.weight        (768, 768)\n",
      "bert.encoder.layer.0.attention.output.dense.bias              (768,)\n",
      "bert.encoder.layer.0.attention.output.LayerNorm.weight        (768,)\n",
      "bert.encoder.layer.0.attention.output.LayerNorm.bias          (768,)\n",
      "bert.encoder.layer.0.intermediate.dense.weight           (3072, 768)\n",
      "bert.encoder.layer.0.intermediate.dense.bias                 (3072,)\n",
      "bert.encoder.layer.0.output.dense.weight                 (768, 3072)\n",
      "bert.encoder.layer.0.output.dense.bias                        (768,)\n",
      "bert.encoder.layer.0.output.LayerNorm.weight                  (768,)\n",
      "bert.encoder.layer.0.output.LayerNorm.bias                    (768,)\n",
      "\n",
      "==== Output Layer ====\n",
      "\n",
      "bert.pooler.dense.weight                                  (768, 768)\n",
      "bert.pooler.dense.bias                                        (768,)\n",
      "classifier.weight                                          (20, 768)\n",
      "classifier.bias                                                (20,)\n"
     ]
    }
   ],
   "source": [
    "# Get all of the model's parameters as a list of tuples.\n",
    "params = list(model.named_parameters())\n",
    "\n",
    "print('The BERT model has {:} different named parameters.\\n'.format(len(params)))\n",
    "\n",
    "print('==== Embedding Layer ====\\n')\n",
    "\n",
    "for p in params[0:5]:\n",
    "    print(\"{:<55} {:>12}\".format(p[0], str(tuple(p[1].size()))))\n",
    "\n",
    "print('\\n==== First Transformer ====\\n')\n",
    "\n",
    "for p in params[5:21]:\n",
    "    print(\"{:<55} {:>12}\".format(p[0], str(tuple(p[1].size()))))\n",
    "\n",
    "print('\\n==== Output Layer ====\\n')\n",
    "\n",
    "for p in params[-4:]:\n",
    "    print(\"{:<55} {:>12}\".format(p[0], str(tuple(p[1].size()))))"
   ]
  },
  {
   "cell_type": "code",
   "execution_count": 22,
   "metadata": {
    "executionInfo": {
     "elapsed": 531,
     "status": "ok",
     "timestamp": 1607139309759,
     "user": {
      "displayName": "ANU K JOSE",
      "photoUrl": "https://lh3.googleusercontent.com/a-/AOh14Gg2RFSDtU7TIBJXHFB5Oo2cENkYUURYMPOy8sfBeN4=s64",
      "userId": "03946493814653353359"
     },
     "user_tz": 360
    },
    "id": "yPlMHRzH7ujl"
   },
   "outputs": [],
   "source": [
    "# STEP 6: INSTANTIATE OPTIMIZER CLASS\n",
    "epochs = 2\n",
    "no_decay = ['bias', 'LayerNorm.weight']\n",
    "optimizer_grouped_parameters = [\n",
    "        {'params': [p for n, p in model.named_parameters() \n",
    "          if not any(nd in n for nd in no_decay)], \n",
    "         'weight_decay': 0.5},\n",
    "\n",
    "        {'params': [p for n, p in model.named_parameters() \n",
    "        if any(nd in n for nd in no_decay)], \n",
    "         'weight_decay': 0.0}\n",
    "        ]\n",
    "\n",
    "optimizer = AdamW(optimizer_grouped_parameters,\n",
    "                  lr = 5e-5, \n",
    "                  eps = 1e-8 \n",
    "                )\n",
    "\n",
    "no_decay = ['bias', 'LayerNorm.weight']\n",
    "\n",
    "\n",
    "\n",
    "from transformers import get_linear_schedule_with_warmup\n",
    "\n",
    "# Total number of training steps is [number of batches] x [number of epochs]. \n",
    "total_steps = len(train_dataloader) * epochs\n",
    "\n",
    "# Create the learning rate scheduler.\n",
    "scheduler = get_linear_schedule_with_warmup(optimizer, \n",
    "                                            num_warmup_steps = 0, # Default value in run_glue.py\n",
    "                                            num_training_steps = total_steps)"
   ]
  },
  {
   "cell_type": "code",
   "execution_count": 23,
   "metadata": {
    "colab": {
     "base_uri": "https://localhost:8080/"
    },
    "executionInfo": {
     "elapsed": 1972895,
     "status": "ok",
     "timestamp": 1607141288787,
     "user": {
      "displayName": "ANU K JOSE",
      "photoUrl": "https://lh3.googleusercontent.com/a-/AOh14Gg2RFSDtU7TIBJXHFB5Oo2cENkYUURYMPOy8sfBeN4=s64",
      "userId": "03946493814653353359"
     },
     "user_tz": 360
    },
    "id": "JqhJfdIf7yCV",
    "outputId": "c9372996-7d95-448c-80e1-e95f9a88bf84"
   },
   "outputs": [
    {
     "name": "stdout",
     "output_type": "stream",
     "text": [
      "Epoch 1/2, Train Loss: 1.3351    Valid Loss: 0.9901, Duration: 0:16:21.557724\n",
      "Epoch 2/2, Train Loss: 0.6405    Valid Loss: 0.8654, Duration: 0:16:30.917418\n"
     ]
    }
   ],
   "source": [
    "import random\n",
    "from datetime import datetime\n",
    "\n",
    "seed = 123\n",
    "\n",
    "random.seed(seed)\n",
    "np.random.seed(seed)\n",
    "torch.manual_seed(seed)\n",
    "torch.cuda.manual_seed_all(seed)\n",
    "\n",
    "epochs = 2\n",
    "\n",
    "# STEP 7: TRAIN THE MODEL\n",
    "\n",
    "train_losses= np.zeros(epochs)\n",
    "valid_losses= np.zeros(epochs)\n",
    "\n",
    "\n",
    "for epoch in range(epochs):\n",
    "  \n",
    "  t0= datetime.now()\n",
    "  train_loss=[]\n",
    "  \n",
    "  model.train()\n",
    "  for batch in train_dataloader:\n",
    "   \n",
    "    b_input_ids = batch[0].to(device)\n",
    "    b_input_mask = batch[1].to(device)\n",
    "    b_labels = batch[2].to(device)\n",
    "    # forward pass\n",
    "\n",
    "    loss, logits = model(b_input_ids, \n",
    "                        token_type_ids=None, \n",
    "                        attention_mask=b_input_mask, \n",
    "                        labels=b_labels)\n",
    "\n",
    "\n",
    "    # set gradients to zero \n",
    "    optimizer.zero_grad()\n",
    "\n",
    "    # backward pass\n",
    "    loss.backward()\n",
    "    torch.nn.utils.clip_grad_norm_(model.parameters(), 1.0)\n",
    "    optimizer.step()\n",
    "    scheduler.step()\n",
    "    train_loss.append(loss.item())\n",
    "  \n",
    "  train_loss=np.mean(train_loss)\n",
    "      \n",
    "  valid_loss=[]\n",
    "  model.eval()\n",
    "  with torch.no_grad():\n",
    "    for batch in validation_dataloader:\n",
    " \n",
    "      # forward pass\n",
    "      b_input_ids = batch[0].to(device)\n",
    "      b_input_mask = batch[1].to(device)\n",
    "      b_labels = batch[2].to(device)\n",
    "    # forward pass\n",
    "\n",
    "      loss, logits = model(b_input_ids, \n",
    "                          token_type_ids=None, \n",
    "                          attention_mask=b_input_mask, \n",
    "                          labels=b_labels)\n",
    "      \n",
    "      valid_loss.append(loss.item())\n",
    "\n",
    "    valid_loss=np.mean(valid_loss)\n",
    "  \n",
    "  # save Losses\n",
    "  train_losses[epoch]= train_loss\n",
    "  valid_losses[epoch]= valid_loss\n",
    "  dt= datetime.now()-t0\n",
    "  print(f'Epoch {epoch+1}/{epochs}, Train Loss: {train_loss:.4f}    Valid Loss: {valid_loss:.4f}, Duration: {dt}')"
   ]
  },
  {
   "cell_type": "code",
   "execution_count": 24,
   "metadata": {
    "executionInfo": {
     "elapsed": 352,
     "status": "ok",
     "timestamp": 1607141350870,
     "user": {
      "displayName": "ANU K JOSE",
      "photoUrl": "https://lh3.googleusercontent.com/a-/AOh14Gg2RFSDtU7TIBJXHFB5Oo2cENkYUURYMPOy8sfBeN4=s64",
      "userId": "03946493814653353359"
     },
     "user_tz": 360
    },
    "id": "Fo1IX6g7Flsv"
   },
   "outputs": [],
   "source": [
    "# Accuracy- write a function to get accuracy\n",
    "# use this function to get accuracy and print accuracy\n",
    "def get_accuracy(data_iter, model):\n",
    "  model.eval()\n",
    "  with torch.no_grad():\n",
    "    correct =0 \n",
    "    total =0\n",
    "    \n",
    "    for batch in data_iter:\n",
    "\n",
    "      b_input_ids = batch[0].to(device)\n",
    "      b_input_mask = batch[1].to(device)\n",
    "      b_labels = batch[2].to(device)\n",
    "    # forward pass\n",
    "\n",
    "      loss, logits = model(b_input_ids, \n",
    "                          token_type_ids=None, \n",
    "                          attention_mask=b_input_mask, \n",
    "                          labels=b_labels)\n",
    "\n",
    "      _,indices = torch.max(logits,dim=1)\n",
    "      correct+= (b_labels==indices).sum().item()\n",
    "      total += b_labels.shape[0]\n",
    "    \n",
    "    acc= correct/total\n",
    "\n",
    "    return acc"
   ]
  },
  {
   "cell_type": "code",
   "execution_count": 25,
   "metadata": {
    "executionInfo": {
     "elapsed": 451006,
     "status": "ok",
     "timestamp": 1607141812808,
     "user": {
      "displayName": "ANU K JOSE",
      "photoUrl": "https://lh3.googleusercontent.com/a-/AOh14Gg2RFSDtU7TIBJXHFB5Oo2cENkYUURYMPOy8sfBeN4=s64",
      "userId": "03946493814653353359"
     },
     "user_tz": 360
    },
    "id": "h5t21I_HFu6B"
   },
   "outputs": [],
   "source": [
    "train_acc = get_accuracy(train_dataloader, model)\n",
    "valid_acc = get_accuracy(validation_dataloader, model)"
   ]
  },
  {
   "cell_type": "code",
   "execution_count": 26,
   "metadata": {
    "colab": {
     "base_uri": "https://localhost:8080/"
    },
    "executionInfo": {
     "elapsed": 443,
     "status": "ok",
     "timestamp": 1607141936811,
     "user": {
      "displayName": "ANU K JOSE",
      "photoUrl": "https://lh3.googleusercontent.com/a-/AOh14Gg2RFSDtU7TIBJXHFB5Oo2cENkYUURYMPOy8sfBeN4=s64",
      "userId": "03946493814653353359"
     },
     "user_tz": 360
    },
    "id": "ctCPbgHfFw1r",
    "outputId": "374a7735-5ef2-458b-ef3b-f51ae8fe3cbf"
   },
   "outputs": [
    {
     "name": "stdout",
     "output_type": "stream",
     "text": [
      "Train acc: 0.8845,\t Valid acc: 0.7458\n"
     ]
    }
   ],
   "source": [
    "print(f'Train acc: {train_acc:.4f},\\t Valid acc: {valid_acc:.4f}')"
   ]
  },
  {
   "cell_type": "code",
   "execution_count": 27,
   "metadata": {
    "executionInfo": {
     "elapsed": 507,
     "status": "ok",
     "timestamp": 1607141939082,
     "user": {
      "displayName": "ANU K JOSE",
      "photoUrl": "https://lh3.googleusercontent.com/a-/AOh14Gg2RFSDtU7TIBJXHFB5Oo2cENkYUURYMPOy8sfBeN4=s64",
      "userId": "03946493814653353359"
     },
     "user_tz": 360
    },
    "id": "8eg4y0KGFyhz"
   },
   "outputs": [],
   "source": [
    "# Write a function to get predictions\n",
    "\n",
    "def get_predictions(data_iter, model):\n",
    "  model.eval()\n",
    "  with torch.no_grad():\n",
    "    predictions= np.array([])\n",
    "    y_test= np.array([])\n",
    "\n",
    "    for batch in data_iter:\n",
    "      \n",
    "      b_input_ids = batch[0].to(device)\n",
    "      b_input_mask = batch[1].to(device)\n",
    "      b_labels = batch[2].to(device)\n",
    "    # forward pass\n",
    "\n",
    "      loss, logits = model(b_input_ids, \n",
    "                          token_type_ids=None, \n",
    "                          attention_mask=b_input_mask, \n",
    "                          labels=b_labels)\n",
    "      \n",
    "      _,indices = torch.max(logits,dim=1)\n",
    "      predictions=np.concatenate((predictions,indices.cpu().numpy())) \n",
    "      y_test = np.concatenate((y_test,b_labels.cpu().numpy())) \n",
    "      \n",
    "  return y_test, predictions"
   ]
  },
  {
   "cell_type": "code",
   "execution_count": 28,
   "metadata": {
    "executionInfo": {
     "elapsed": 135463,
     "status": "ok",
     "timestamp": 1607142099801,
     "user": {
      "displayName": "ANU K JOSE",
      "photoUrl": "https://lh3.googleusercontent.com/a-/AOh14Gg2RFSDtU7TIBJXHFB5Oo2cENkYUURYMPOy8sfBeN4=s64",
      "userId": "03946493814653353359"
     },
     "user_tz": 360
    },
    "id": "c2JlHDtzIDAs"
   },
   "outputs": [],
   "source": [
    "y_valid, predictions=get_predictions(validation_dataloader, model)"
   ]
  },
  {
   "cell_type": "code",
   "execution_count": 29,
   "metadata": {
    "colab": {
     "base_uri": "https://localhost:8080/"
    },
    "executionInfo": {
     "elapsed": 328,
     "status": "ok",
     "timestamp": 1607142136851,
     "user": {
      "displayName": "ANU K JOSE",
      "photoUrl": "https://lh3.googleusercontent.com/a-/AOh14Gg2RFSDtU7TIBJXHFB5Oo2cENkYUURYMPOy8sfBeN4=s64",
      "userId": "03946493814653353359"
     },
     "user_tz": 360
    },
    "id": "hyYeFxNpID5l",
    "outputId": "7c38ce22-cae3-445c-8c15-8b1802e92991"
   },
   "outputs": [
    {
     "data": {
      "text/plain": [
       "array([[ 94,   2,   0,   0,   0,   1,   1,   4,   3,   1,   0,   1,   0,\n",
       "          1,   3,  19,   1,   7,   4,   3],\n",
       "       [  2, 118,  13,  16,  10,   8,   2,   3,   1,   0,   0,   3,   3,\n",
       "          0,   0,   0,   0,   0,   0,   0],\n",
       "       [  0,   6, 112,  16,   2,   5,   3,   8,   1,   1,   0,   1,   1,\n",
       "          0,   1,   0,   0,   0,   0,   0],\n",
       "       [  0,   3,  18, 115,  15,   0,   5,   6,   4,   0,   0,   0,   6,\n",
       "          1,   0,   0,   0,   0,   0,   0],\n",
       "       [  2,   1,   4,  22, 127,   0,   7,  10,   1,   0,   0,   0,   7,\n",
       "          0,   1,   0,   0,   0,   0,   0],\n",
       "       [  1,  12,  10,   1,   2, 143,   0,   2,   2,   0,   0,   2,   0,\n",
       "          0,   0,   0,   1,   0,   0,   0],\n",
       "       [  0,   0,   1,   9,   4,   0, 164,   6,   1,   1,   0,   0,   4,\n",
       "          0,   0,   0,   0,   0,   2,   0],\n",
       "       [  0,   1,   2,   0,   1,   0,   3, 153,  10,   1,   2,   1,   5,\n",
       "          0,   1,   0,   4,   0,   0,   1],\n",
       "       [  1,   0,   2,   0,   0,   0,   2,  23, 128,   2,   2,   0,   4,\n",
       "          1,   4,   1,   3,   0,   3,   0],\n",
       "       [  0,   1,   0,   0,   0,   0,   2,   4,   7, 166,   7,   0,   0,\n",
       "          0,   0,   0,   1,   1,   1,   0],\n",
       "       [  1,   0,   0,   0,   0,   0,   3,   6,   5,   2, 132,   0,   1,\n",
       "          1,   0,   0,   0,   1,   0,   1],\n",
       "       [  0,   0,   2,   1,   1,   0,   0,   2,   1,   0,   0, 145,   6,\n",
       "          1,   3,   0,   5,   0,   4,   0],\n",
       "       [  0,   3,   3,  16,   3,   1,   9,  15,   1,   1,   0,   4, 121,\n",
       "          3,   4,   0,   0,   1,   0,   0],\n",
       "       [  3,   0,   0,   0,   1,   0,   0,   5,   2,   0,   0,   0,   1,\n",
       "        157,   7,   1,   0,   0,   1,   1],\n",
       "       [  1,   3,   1,   0,   4,   0,   1,   7,   4,   2,   0,   1,   4,\n",
       "          4, 137,   0,   0,   1,   1,   1],\n",
       "       [ 12,   1,   0,   0,   0,   0,   0,   2,   2,   0,   0,   0,   0,\n",
       "          1,   1, 155,   1,   1,   1,  11],\n",
       "       [  2,   0,   1,   0,   0,   0,   0,  10,   3,   1,   1,   4,   2,\n",
       "          0,   2,   1, 119,   3,  14,   1],\n",
       "       [  7,   0,   0,   0,   0,   0,   1,   5,   2,   1,   3,   1,   0,\n",
       "          1,   2,   0,   4, 138,   9,   0],\n",
       "       [  7,   0,   0,   0,   0,   0,   0,   7,   6,   0,   2,   1,   0,\n",
       "          1,   1,   0,   4,   8,  98,   0],\n",
       "       [ 33,   1,   1,   0,   0,   0,   0,   6,   4,   2,   2,   2,   0,\n",
       "          0,   2,  42,   9,   1,   4,  10]])"
      ]
     },
     "execution_count": 29,
     "metadata": {
      "tags": []
     },
     "output_type": "execute_result"
    }
   ],
   "source": [
    "# Confusion Matrix\n",
    "from sklearn.metrics import confusion_matrix\n",
    "cm=confusion_matrix(y_valid,predictions)\n",
    "cm"
   ]
  },
  {
   "cell_type": "code",
   "execution_count": 30,
   "metadata": {
    "executionInfo": {
     "elapsed": 365,
     "status": "ok",
     "timestamp": 1607142141076,
     "user": {
      "displayName": "ANU K JOSE",
      "photoUrl": "https://lh3.googleusercontent.com/a-/AOh14Gg2RFSDtU7TIBJXHFB5Oo2cENkYUURYMPOy8sfBeN4=s64",
      "userId": "03946493814653353359"
     },
     "user_tz": 360
    },
    "id": "_WmztMPSIH5C"
   },
   "outputs": [],
   "source": [
    "import seaborn as sns\n",
    "import matplotlib.pyplot as plt\n",
    "from sklearn.metrics import confusion_matrix\n",
    "\n",
    "def plot_confusion_matrix(y_true,y_pred,normalize=None):\n",
    "  cm=confusion_matrix(y_true,y_pred,normalize=normalize)\n",
    "  fig, ax = plt.subplots(figsize=(6,5))\n",
    "  if normalize == None:\n",
    "    fmt='d'\n",
    "    fig.suptitle('Confusion matrix without Normalization', fontsize=12)\n",
    "        \n",
    "  else :\n",
    "    fmt='0.2f'\n",
    "    fig.suptitle('Normalized confusion matrix', fontsize=12)\n",
    "    \n",
    "  ax=sns.heatmap(cm,cmap=plt.cm.Blues,annot=True,fmt=fmt)\n",
    "  ax.axhline(y=0, color='k',linewidth=1)\n",
    "  ax.axhline(y=cm.shape[1], color='k',linewidth=2)\n",
    "  ax.axvline(x=0, color='k',linewidth=1)\n",
    "  ax.axvline(x=cm.shape[0], color='k',linewidth=2)\n",
    " \n",
    "  ax.set_xlabel('Predicted label', fontsize=12)\n",
    "  ax.set_ylabel('True label', fontsize=12)"
   ]
  },
  {
   "cell_type": "code",
   "execution_count": 31,
   "metadata": {
    "colab": {
     "base_uri": "https://localhost:8080/",
     "height": 373
    },
    "executionInfo": {
     "elapsed": 1914,
     "status": "ok",
     "timestamp": 1607142148763,
     "user": {
      "displayName": "ANU K JOSE",
      "photoUrl": "https://lh3.googleusercontent.com/a-/AOh14Gg2RFSDtU7TIBJXHFB5Oo2cENkYUURYMPOy8sfBeN4=s64",
      "userId": "03946493814653353359"
     },
     "user_tz": 360
    },
    "id": "uXTfOcJjIJRx",
    "outputId": "34810e86-46bb-449b-b2a3-c36b6b4fca51"
   },
   "outputs": [
    {
     "data": {
      "image/png": "[encoded data removed]",
      "text/plain": [
       "<Figure size 432x360 with 2 Axes>"
      ]
     },
     "metadata": {
      "needs_background": "light",
      "tags": []
     },
     "output_type": "display_data"
    }
   ],
   "source": [
    "plot_confusion_matrix(y_valid,predictions)"
   ]
  }
 ],
 "metadata": {
  "accelerator": "GPU",
  "colab": {
   "collapsed_sections": [],
   "name": "Experiment_2.ipynb",
   "provenance": []
  },
  "kernelspec": {
   "display_name": "Python 3",
   "language": "python",
   "name": "python3"
  },
  "language_info": {
   "codemirror_mode": {
    "name": "ipython",
    "version": 3
   },
   "file_extension": ".py",
   "mimetype": "text/x-python",
   "name": "python",
   "nbconvert_exporter": "python",
   "pygments_lexer": "ipython3",
   "version": "3.7.4"
  }
 },
 "nbformat": 4,
 "nbformat_minor": 1
}
